{
 "cells": [
  {
   "cell_type": "code",
   "execution_count": 1,
   "metadata": {},
   "outputs": [],
   "source": [
    "from datetime import datetime"
   ]
  },
  {
   "cell_type": "code",
   "execution_count": 2,
   "metadata": {},
   "outputs": [
    {
     "data": {
      "text/plain": [
       "'2023-08-29 14:10:34'"
      ]
     },
     "execution_count": 2,
     "metadata": {},
     "output_type": "execute_result"
    }
   ],
   "source": [
    "datetime.now().strftime(\"%Y-%m-%d %H:%M:%S\")"
   ]
  },
  {
   "cell_type": "code",
   "execution_count": 3,
   "metadata": {},
   "outputs": [],
   "source": [
    "URL1 = \"https://www.youtube.com/watch?v=CIbJSX-biu0\" ## from search bar\n",
    "URL2 = \"https://youtu.be/CIbJSX-biu0?si=HhCO-34GBZTvLomd\" ## from share and copy url\n",
    "URL3 = \"https://youtu.be/CIbJSX-biu0?si=HhCO-34GBZTvLomd&t=60\" ## from share and copy url with time\n",
    "URL4 = \"https://www.youtube.com/watch?v=CIbJSX-biu0&t=60s\" ## from search bar with time after opening URL3 the link changes to this\n",
    "\n",
    "## Question is how do we get video id and time from these URLs?"
   ]
  },
  {
   "cell_type": "code",
   "execution_count": 4,
   "metadata": {},
   "outputs": [
    {
     "data": {
      "text/plain": [
       "'CIbJSX-biu0'"
      ]
     },
     "execution_count": 4,
     "metadata": {},
     "output_type": "execute_result"
    }
   ],
   "source": [
    "## URL 1 and URL 4 have watch in them\n",
    "## lets split url1 and time is none for this\n",
    "URL1.split(\"=\")[-1]"
   ]
  },
  {
   "cell_type": "code",
   "execution_count": 5,
   "metadata": {},
   "outputs": [
    {
     "data": {
      "text/plain": [
       "('CIbJSX-biu0', '60')"
      ]
     },
     "execution_count": 5,
     "metadata": {},
     "output_type": "execute_result"
    }
   ],
   "source": [
    "#if watch in url and there is time (&t=)\n",
    "URL4.split(\"=\")[-2][:-2], URL4.split(\"=\")[-1][:-1]"
   ]
  },
  {
   "cell_type": "code",
   "execution_count": 10,
   "metadata": {},
   "outputs": [
    {
     "data": {
      "text/plain": [
       "'CIbJSX-biu0'"
      ]
     },
     "execution_count": 10,
     "metadata": {},
     "output_type": "execute_result"
    }
   ],
   "source": [
    "## If no watch in the url,\n",
    "URL2.split(\"/\")[-1].split(\"?\")[0]"
   ]
  },
  {
   "cell_type": "code",
   "execution_count": 7,
   "metadata": {},
   "outputs": [
    {
     "data": {
      "text/plain": [
       "('CIbJSX-biu0', '60')"
      ]
     },
     "execution_count": 7,
     "metadata": {},
     "output_type": "execute_result"
    }
   ],
   "source": [
    "## If no watch in the url, but there is time (&t=)\n",
    "URL3.split(\"/\")[-1].split(\"?\")[0], URL3.split(\"/\")[-1].split(\"?\")[1].split(\"=\")[-1]"
   ]
  },
  {
   "cell_type": "code",
   "execution_count": 8,
   "metadata": {},
   "outputs": [],
   "source": [
    "from IPNBRenderer.youtube import render_youtube_video"
   ]
  },
  {
   "cell_type": "code",
   "execution_count": 9,
   "metadata": {},
   "outputs": [],
   "source": [
    "from IPNBRenderer import render_youtube_video"
   ]
  },
  {
   "cell_type": "code",
   "execution_count": 10,
   "metadata": {},
   "outputs": [
    {
     "name": "stdout",
     "output_type": "stream",
     "text": [
      "[2023-08-29 14:10:35,957: INFO: youtube]: video starts at: 0\n",
      "[2023-08-29 14:10:35,958: INFO: youtube]: embed_url = https://www.youtube.com/embed/Da-FL_1i6ps/?start=0\n"
     ]
    },
    {
     "data": {
      "text/html": [
       "\n",
       "            <iframe width=\"780\" height=\"160\" \n",
       "            src=\"https://www.youtube.com/embed/Da-FL_1i6ps/?start=0\" \n",
       "            title=\"YouTube video player\" \n",
       "            frameborder=\"0\" \n",
       "            allow=\"accelerometer; autoplay; \n",
       "            clipboard-write; encrypted-media; \n",
       "            gyroscope; picture-in-picture; \n",
       "            web-share\" allowfullscreen>\n",
       "            </iframe>\n",
       "            "
      ],
      "text/plain": [
       "<IPython.core.display.HTML object>"
      ]
     },
     "metadata": {},
     "output_type": "display_data"
    },
    {
     "data": {
      "text/plain": [
       "'success'"
      ]
     },
     "execution_count": 10,
     "metadata": {},
     "output_type": "execute_result"
    }
   ],
   "source": [
    "render_youtube_video(\"https://www.youtube.com/watch?v=Da-FL_1i6ps\")"
   ]
  },
  {
   "cell_type": "code",
   "execution_count": 30,
   "metadata": {},
   "outputs": [],
   "source": [
    "from ensure import ensure_annotations\n",
    "from IPNBRenderer.logger import logger\n",
    "from IPNBRenderer.custom_exception import InvalidURLException\n",
    "\n",
    "@ensure_annotations\n",
    "def get_time_info(url: str) -> int:\n",
    "    def _verify_videoIDlen(videoID: str, __expected_len=11):\n",
    "        if len(videoID) != __expected_len:\n",
    "            raise InvalidURLException(\n",
    "                f\"Invalid URL: {url}, expected length of videoID is {__expected_len}\"\n",
    "            )\n",
    "\n",
    "    try:\n",
    "        split_val = url.split(\"=\")\n",
    "        print(split_val)\n",
    "        if (len(split_val) > 3) or (len(url.split(\"==\")) > 1):\n",
    "            raise InvalidURLException\n",
    "        if \"watch\" in url:\n",
    "            if \"&t\" in url:\n",
    "                vid_id, time = url.split(\"=\")[-2][:-2], int(url.split(\"=\")[-1][:-1])\n",
    "                _verify_videoIDlen(vid_id)\n",
    "                logger.info(f\"video starts at: {time}\")\n",
    "                return time\n",
    "            else: \n",
    "                vid_id, time = url.split(\"=\")[-1], 0\n",
    "                _verify_videoIDlen(vid_id)\n",
    "                logger.info(f\"video starts at: {time}\")\n",
    "                return time\n",
    "        else:\n",
    "            if (\"=\" in url) and (\"&t=\" in url):\n",
    "                vid_id, time = url.split(\"/\")[-1].split(\"?\")[0], int(url.split(\"/\")[-1].split(\"?\")[1].split(\"=\")[-1])\n",
    "                _verify_videoIDlen(vid_id)\n",
    "                logger.info(f\"video starts at: {time}\")\n",
    "                return time\n",
    "            else:\n",
    "                vid_id, time = url.split(\"/\")[-1].split(\"?\")[0], 0\n",
    "                _verify_videoIDlen(vid_id)\n",
    "                logger.info(f\"video starts at: {time}\")\n",
    "                return time\n",
    "    except Exception:\n",
    "        raise InvalidURLException"
   ]
  },
  {
   "cell_type": "code",
   "execution_count": 12,
   "metadata": {},
   "outputs": [
    {
     "name": "stdout",
     "output_type": "stream",
     "text": [
      "[2023-08-30 05:19:49,253: INFO: 84201030]: video starts at: 0\n"
     ]
    },
    {
     "data": {
      "text/plain": [
       "0"
      ]
     },
     "execution_count": 12,
     "metadata": {},
     "output_type": "execute_result"
    }
   ],
   "source": [
    "get_time_info(URL1)"
   ]
  },
  {
   "cell_type": "code",
   "execution_count": 13,
   "metadata": {},
   "outputs": [
    {
     "name": "stdout",
     "output_type": "stream",
     "text": [
      "https://youtu.be/CIbJSX-biu0?si=HhCO-34GBZTvLomd\n",
      "[2023-08-30 05:20:08,291: INFO: 84201030]: video starts at: 0\n"
     ]
    },
    {
     "data": {
      "text/plain": [
       "0"
      ]
     },
     "execution_count": 13,
     "metadata": {},
     "output_type": "execute_result"
    }
   ],
   "source": [
    "print(URL2)\n",
    "get_time_info(URL2)"
   ]
  },
  {
   "cell_type": "code",
   "execution_count": 14,
   "metadata": {},
   "outputs": [
    {
     "name": "stdout",
     "output_type": "stream",
     "text": [
      "[2023-08-30 05:20:19,959: INFO: 84201030]: video starts at: 0\n"
     ]
    },
    {
     "data": {
      "text/plain": [
       "0"
      ]
     },
     "execution_count": 14,
     "metadata": {},
     "output_type": "execute_result"
    }
   ],
   "source": [
    "get_time_info(URL3)"
   ]
  },
  {
   "cell_type": "code",
   "execution_count": 15,
   "metadata": {},
   "outputs": [
    {
     "name": "stdout",
     "output_type": "stream",
     "text": [
      "[2023-08-30 05:20:46,273: INFO: 84201030]: video starts at: 60\n"
     ]
    },
    {
     "data": {
      "text/plain": [
       "60"
      ]
     },
     "execution_count": 15,
     "metadata": {},
     "output_type": "execute_result"
    }
   ],
   "source": [
    "get_time_info(URL4)"
   ]
  },
  {
   "cell_type": "code",
   "execution_count": 31,
   "metadata": {},
   "outputs": [
    {
     "name": "stdout",
     "output_type": "stream",
     "text": [
      "['https://www.youtube.com/watch?v', '', 'CIbJSX-biu0']\n"
     ]
    },
    {
     "ename": "InvalidURLException",
     "evalue": "This is invalid URL",
     "output_type": "error",
     "traceback": [
      "\u001b[1;31m---------------------------------------------------------------------------\u001b[0m",
      "\u001b[1;31mInvalidURLException\u001b[0m                       Traceback (most recent call last)",
      "Cell \u001b[1;32mIn[30], line 17\u001b[0m, in \u001b[0;36mget_time_info\u001b[1;34m(url)\u001b[0m\n\u001b[0;32m     16\u001b[0m \u001b[39mif\u001b[39;00m (\u001b[39mlen\u001b[39m(split_val) \u001b[39m>\u001b[39m \u001b[39m3\u001b[39m) \u001b[39mor\u001b[39;00m (\u001b[39mlen\u001b[39m(url\u001b[39m.\u001b[39msplit(\u001b[39m\"\u001b[39m\u001b[39m==\u001b[39m\u001b[39m\"\u001b[39m)) \u001b[39m>\u001b[39m \u001b[39m1\u001b[39m):\n\u001b[1;32m---> 17\u001b[0m     \u001b[39mraise\u001b[39;00m InvalidURLException\n\u001b[0;32m     18\u001b[0m \u001b[39mif\u001b[39;00m \u001b[39m\"\u001b[39m\u001b[39mwatch\u001b[39m\u001b[39m\"\u001b[39m \u001b[39min\u001b[39;00m url:\n",
      "\u001b[1;31mInvalidURLException\u001b[0m: This is invalid URL",
      "\nDuring handling of the above exception, another exception occurred:\n",
      "\u001b[1;31mInvalidURLException\u001b[0m                       Traceback (most recent call last)",
      "Cell \u001b[1;32mIn[31], line 1\u001b[0m\n\u001b[1;32m----> 1\u001b[0m get_time_info(\u001b[39m\"\u001b[39;49m\u001b[39mhttps://www.youtube.com/watch?v==CIbJSX-biu0\u001b[39;49m\u001b[39m\"\u001b[39;49m)\n",
      "File \u001b[1;32md:\\MS\\projects\\IPNBRenderer\\env\\lib\\site-packages\\ensure\\main.py:849\u001b[0m, in \u001b[0;36mWrappedFunctionReturn.__call__\u001b[1;34m(self, *args, **kwargs)\u001b[0m\n\u001b[0;32m    841\u001b[0m         msg \u001b[39m=\u001b[39m (\n\u001b[0;32m    842\u001b[0m             \u001b[39m\"\u001b[39m\u001b[39mArgument \u001b[39m\u001b[39m{arg}\u001b[39;00m\u001b[39m of type \u001b[39m\u001b[39m{valt}\u001b[39;00m\u001b[39m to \u001b[39m\u001b[39m{f}\u001b[39;00m\u001b[39m \u001b[39m\u001b[39m\"\u001b[39m\n\u001b[0;32m    843\u001b[0m             \u001b[39m\"\u001b[39m\u001b[39mdoes not match annotation type \u001b[39m\u001b[39m{t}\u001b[39;00m\u001b[39m\"\u001b[39m\n\u001b[0;32m    844\u001b[0m         )\n\u001b[0;32m    845\u001b[0m         \u001b[39mraise\u001b[39;00m EnsureError(msg\u001b[39m.\u001b[39mformat(\n\u001b[0;32m    846\u001b[0m             arg\u001b[39m=\u001b[39marg, f\u001b[39m=\u001b[39m\u001b[39mself\u001b[39m\u001b[39m.\u001b[39mf, t\u001b[39m=\u001b[39mtempl, valt\u001b[39m=\u001b[39m\u001b[39mtype\u001b[39m(value)\n\u001b[0;32m    847\u001b[0m         ))\n\u001b[1;32m--> 849\u001b[0m return_val \u001b[39m=\u001b[39m \u001b[39mself\u001b[39;49m\u001b[39m.\u001b[39;49mf(\u001b[39m*\u001b[39;49margs, \u001b[39m*\u001b[39;49m\u001b[39m*\u001b[39;49mkwargs)\n\u001b[0;32m    850\u001b[0m \u001b[39mif\u001b[39;00m \u001b[39mnot\u001b[39;00m \u001b[39misinstance\u001b[39m(return_val, \u001b[39mself\u001b[39m\u001b[39m.\u001b[39mreturn_templ):\n\u001b[0;32m    851\u001b[0m     msg \u001b[39m=\u001b[39m (\n\u001b[0;32m    852\u001b[0m         \u001b[39m\"\u001b[39m\u001b[39mReturn value of \u001b[39m\u001b[39m{f}\u001b[39;00m\u001b[39m of type \u001b[39m\u001b[39m{valt}\u001b[39;00m\u001b[39m \u001b[39m\u001b[39m\"\u001b[39m\n\u001b[0;32m    853\u001b[0m         \u001b[39m\"\u001b[39m\u001b[39mdoes not match annotation type \u001b[39m\u001b[39m{t}\u001b[39;00m\u001b[39m\"\u001b[39m\n\u001b[0;32m    854\u001b[0m     )\n",
      "Cell \u001b[1;32mIn[30], line 41\u001b[0m, in \u001b[0;36mget_time_info\u001b[1;34m(url)\u001b[0m\n\u001b[0;32m     39\u001b[0m             \u001b[39mreturn\u001b[39;00m time\n\u001b[0;32m     40\u001b[0m \u001b[39mexcept\u001b[39;00m \u001b[39mException\u001b[39;00m:\n\u001b[1;32m---> 41\u001b[0m     \u001b[39mraise\u001b[39;00m InvalidURLException\n",
      "\u001b[1;31mInvalidURLException\u001b[0m: This is invalid URL"
     ]
    }
   ],
   "source": [
    "get_time_info(\"https://www.youtube.com/watch?v==CIbJSX-biu0\")"
   ]
  },
  {
   "cell_type": "code",
   "execution_count": 27,
   "metadata": {},
   "outputs": [
    {
     "data": {
      "text/plain": [
       "['https://www.youtube.com/watch?v', '', 'CIbJSX-biu0']"
      ]
     },
     "execution_count": 27,
     "metadata": {},
     "output_type": "execute_result"
    }
   ],
   "source": [
    "\"https://www.youtube.com/watch?v==CIbJSX-biu0\".split('=')"
   ]
  },
  {
   "cell_type": "code",
   "execution_count": 32,
   "metadata": {},
   "outputs": [],
   "source": [
    "from py_youtube import Data"
   ]
  },
  {
   "cell_type": "code",
   "execution_count": 33,
   "metadata": {},
   "outputs": [
    {
     "data": {
      "text/plain": [
       "{'id': 'CIbJSX-biu0',\n",
       " 'title': 'Python for Data Analysis: Hypothesis Testing and T-Tests',\n",
       " 'thumbnails': 'https://i.ytimg.com/vi/CIbJSX-biu0/hqdefault.jpg?sqp=-oaymwEbCKgBEF5IVfKriqkDDggBFQAAiEIYAXABwAEG\\\\u0026rs=AOn4CLDMvbbd-P9FSDtjwdwWucEka17x5g',\n",
       " 'views': '45712',\n",
       " 'likes': '973',\n",
       " 'dislikes': None,\n",
       " 'publishdate': '2020-12-15',\n",
       " 'category': 'Science \\\\u0026 Technology',\n",
       " 'channel_name': 'DataDaft',\n",
       " 'subscriber': '36.4K',\n",
       " 'keywords': 't-tests in python, t-test in python, python t-test, python t test, t test in python, t test basics, paired t test python, one way t test python, two way t test python, statistical testing in python, hypothesis testing in python, t test, t-test, statistical inference, compare population means python, python statistics, scipy t test, scipy.stats, scipy t-test, t-test python, t test python, how to do a t test in python, python for data analysis, python p values'}"
      ]
     },
     "execution_count": 33,
     "metadata": {},
     "output_type": "execute_result"
    }
   ],
   "source": [
    "Data(\"https://www.youtube.com/watch?v=CIbJSX-biu0&t\").data()"
   ]
  },
  {
   "cell_type": "code",
   "execution_count": null,
   "metadata": {},
   "outputs": [],
   "source": []
  }
 ],
 "metadata": {
  "kernelspec": {
   "display_name": "Python 3",
   "language": "python",
   "name": "python3"
  },
  "language_info": {
   "codemirror_mode": {
    "name": "ipython",
    "version": 3
   },
   "file_extension": ".py",
   "mimetype": "text/x-python",
   "name": "python",
   "nbconvert_exporter": "python",
   "pygments_lexer": "ipython3",
   "version": "3.8.17"
  },
  "orig_nbformat": 4
 },
 "nbformat": 4,
 "nbformat_minor": 2
}
