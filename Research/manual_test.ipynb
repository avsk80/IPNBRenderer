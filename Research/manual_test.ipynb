{
 "cells": [
  {
   "cell_type": "code",
   "execution_count": 1,
   "metadata": {},
   "outputs": [],
   "source": [
    "from datetime import datetime"
   ]
  },
  {
   "cell_type": "code",
   "execution_count": 2,
   "metadata": {},
   "outputs": [
    {
     "data": {
      "text/plain": [
       "'2023-08-29 14:10:34'"
      ]
     },
     "execution_count": 2,
     "metadata": {},
     "output_type": "execute_result"
    }
   ],
   "source": [
    "datetime.now().strftime(\"%Y-%m-%d %H:%M:%S\")"
   ]
  },
  {
   "cell_type": "code",
   "execution_count": 3,
   "metadata": {},
   "outputs": [],
   "source": [
    "URL1 = \"https://www.youtube.com/watch?v=CIbJSX-biu0\" ## from search bar\n",
    "URL2 = \"https://youtu.be/CIbJSX-biu0?si=HhCO-34GBZTvLomd\" ## from share and copy url\n",
    "URL3 = \"https://youtu.be/CIbJSX-biu0?si=HhCO-34GBZTvLomd&t=60\" ## from share and copy url with time\n",
    "URL4 = \"https://www.youtube.com/watch?v=CIbJSX-biu0&t=60s\" ## from search bar with time after opening URL3 the link changes to this\n",
    "\n",
    "## Question is how do we get video id and time from these URLs?"
   ]
  },
  {
   "cell_type": "code",
   "execution_count": 4,
   "metadata": {},
   "outputs": [
    {
     "data": {
      "text/plain": [
       "'CIbJSX-biu0'"
      ]
     },
     "execution_count": 4,
     "metadata": {},
     "output_type": "execute_result"
    }
   ],
   "source": [
    "## URL 1 and URL 4 have watch in them\n",
    "## lets split url1 and time is none for this\n",
    "URL1.split(\"=\")[-1]"
   ]
  },
  {
   "cell_type": "code",
   "execution_count": 5,
   "metadata": {},
   "outputs": [
    {
     "data": {
      "text/plain": [
       "('CIbJSX-biu0', '60')"
      ]
     },
     "execution_count": 5,
     "metadata": {},
     "output_type": "execute_result"
    }
   ],
   "source": [
    "#if watch in url and there is time (&t=)\n",
    "URL4.split(\"=\")[-2][:-2], URL4.split(\"=\")[-1][:-1]"
   ]
  },
  {
   "cell_type": "code",
   "execution_count": 6,
   "metadata": {},
   "outputs": [
    {
     "data": {
      "text/plain": [
       "'CIbJSX-biu0'"
      ]
     },
     "execution_count": 6,
     "metadata": {},
     "output_type": "execute_result"
    }
   ],
   "source": [
    "## If no watch in the url,\n",
    "URL2.split(\"/\")[-1].split(\"?\")[0]"
   ]
  },
  {
   "cell_type": "code",
   "execution_count": 7,
   "metadata": {},
   "outputs": [
    {
     "data": {
      "text/plain": [
       "('CIbJSX-biu0', '60')"
      ]
     },
     "execution_count": 7,
     "metadata": {},
     "output_type": "execute_result"
    }
   ],
   "source": [
    "## If no watch in the url, but there is time (&t=)\n",
    "URL3.split(\"/\")[-1].split(\"?\")[0], URL3.split(\"/\")[-1].split(\"?\")[1].split(\"=\")[-1]"
   ]
  },
  {
   "cell_type": "code",
   "execution_count": 8,
   "metadata": {},
   "outputs": [],
   "source": [
    "from IPNBRenderer.youtube import render_youtube_video"
   ]
  },
  {
   "cell_type": "code",
   "execution_count": 9,
   "metadata": {},
   "outputs": [],
   "source": [
    "from IPNBRenderer import render_youtube_video"
   ]
  },
  {
   "cell_type": "code",
   "execution_count": 10,
   "metadata": {},
   "outputs": [
    {
     "name": "stdout",
     "output_type": "stream",
     "text": [
      "[2023-08-29 14:10:35,957: INFO: youtube]: video starts at: 0\n",
      "[2023-08-29 14:10:35,958: INFO: youtube]: embed_url = https://www.youtube.com/embed/Da-FL_1i6ps/?start=0\n"
     ]
    },
    {
     "data": {
      "text/html": [
       "\n",
       "            <iframe width=\"780\" height=\"160\" \n",
       "            src=\"https://www.youtube.com/embed/Da-FL_1i6ps/?start=0\" \n",
       "            title=\"YouTube video player\" \n",
       "            frameborder=\"0\" \n",
       "            allow=\"accelerometer; autoplay; \n",
       "            clipboard-write; encrypted-media; \n",
       "            gyroscope; picture-in-picture; \n",
       "            web-share\" allowfullscreen>\n",
       "            </iframe>\n",
       "            "
      ],
      "text/plain": [
       "<IPython.core.display.HTML object>"
      ]
     },
     "metadata": {},
     "output_type": "display_data"
    },
    {
     "data": {
      "text/plain": [
       "'success'"
      ]
     },
     "execution_count": 10,
     "metadata": {},
     "output_type": "execute_result"
    }
   ],
   "source": [
    "render_youtube_video(\"https://www.youtube.com/watch?v=Da-FL_1i6ps\")"
   ]
  },
  {
   "cell_type": "code",
   "execution_count": null,
   "metadata": {},
   "outputs": [],
   "source": []
  }
 ],
 "metadata": {
  "kernelspec": {
   "display_name": "Python 3",
   "language": "python",
   "name": "python3"
  },
  "language_info": {
   "codemirror_mode": {
    "name": "ipython",
    "version": 3
   },
   "file_extension": ".py",
   "mimetype": "text/x-python",
   "name": "python",
   "nbconvert_exporter": "python",
   "pygments_lexer": "ipython3",
   "version": "3.8.17"
  },
  "orig_nbformat": 4
 },
 "nbformat": 4,
 "nbformat_minor": 2
}
